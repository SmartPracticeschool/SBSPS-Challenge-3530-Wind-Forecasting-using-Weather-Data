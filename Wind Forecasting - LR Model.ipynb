{
 "cells": [
  {
   "cell_type": "code",
   "execution_count": 1,
   "metadata": {},
   "outputs": [
    {
     "name": "stdout",
     "output_type": "stream",
     "text": [
      "Requirement already satisfied: sklearn in c:\\users\\ragav\\appdata\\local\\programs\\python\\python38\\lib\\site-packages (0.0)Note: you may need to restart the kernel to use updated packages.\n",
      "Requirement already satisfied: scikit-learn in c:\\users\\ragav\\appdata\\local\\programs\\python\\python38\\lib\\site-packages (from sklearn) (0.23.1)\n",
      "\n",
      "Requirement already satisfied: numpy>=1.13.3 in c:\\users\\ragav\\appdata\\local\\programs\\python\\python38\\lib\\site-packages (from scikit-learn->sklearn) (1.19.0)\n",
      "Requirement already satisfied: scipy>=0.19.1 in c:\\users\\ragav\\appdata\\local\\programs\\python\\python38\\lib\\site-packages (from scikit-learn->sklearn) (1.5.0)\n",
      "Requirement already satisfied: threadpoolctl>=2.0.0 in c:\\users\\ragav\\appdata\\local\\programs\\python\\python38\\lib\\site-packages (from scikit-learn->sklearn) (2.1.0)\n",
      "Requirement already satisfied: joblib>=0.11 in c:\\users\\ragav\\appdata\\local\\programs\\python\\python38\\lib\\site-packages (from scikit-learn->sklearn) (0.15.1)\n"
     ]
    }
   ],
   "source": [
    "pip install sklearn"
   ]
  },
  {
   "cell_type": "code",
   "execution_count": 2,
   "metadata": {},
   "outputs": [
    {
     "name": "stdout",
     "output_type": "stream",
     "text": [
      "Requirement already satisfied: seaborn in c:\\users\\ragav\\appdata\\local\\programs\\python\\python38\\lib\\site-packages (0.10.1)Note: you may need to restart the kernel to use updated packages.\n",
      "\n",
      "Requirement already satisfied: numpy>=1.13.3 in c:\\users\\ragav\\appdata\\local\\programs\\python\\python38\\lib\\site-packages (from seaborn) (1.19.0)\n",
      "Requirement already satisfied: matplotlib>=2.1.2 in c:\\users\\ragav\\appdata\\local\\programs\\python\\python38\\lib\\site-packages (from seaborn) (3.2.2)\n",
      "Requirement already satisfied: pandas>=0.22.0 in c:\\users\\ragav\\appdata\\local\\programs\\python\\python38\\lib\\site-packages (from seaborn) (1.0.5)\n",
      "Requirement already satisfied: scipy>=1.0.1 in c:\\users\\ragav\\appdata\\local\\programs\\python\\python38\\lib\\site-packages (from seaborn) (1.5.0)\n",
      "Requirement already satisfied: python-dateutil>=2.1 in c:\\users\\ragav\\appdata\\local\\programs\\python\\python38\\lib\\site-packages (from matplotlib>=2.1.2->seaborn) (2.8.1)\n",
      "Requirement already satisfied: cycler>=0.10 in c:\\users\\ragav\\appdata\\local\\programs\\python\\python38\\lib\\site-packages (from matplotlib>=2.1.2->seaborn) (0.10.0)\n",
      "Requirement already satisfied: pyparsing!=2.0.4,!=2.1.2,!=2.1.6,>=2.0.1 in c:\\users\\ragav\\appdata\\local\\programs\\python\\python38\\lib\\site-packages (from matplotlib>=2.1.2->seaborn) (2.4.7)\n",
      "Requirement already satisfied: kiwisolver>=1.0.1 in c:\\users\\ragav\\appdata\\local\\programs\\python\\python38\\lib\\site-packages (from matplotlib>=2.1.2->seaborn) (1.2.0)\n",
      "Requirement already satisfied: pytz>=2017.2 in c:\\users\\ragav\\appdata\\local\\programs\\python\\python38\\lib\\site-packages (from pandas>=0.22.0->seaborn) (2020.1)\n",
      "Requirement already satisfied: six>=1.5 in c:\\users\\ragav\\appdata\\local\\programs\\python\\python38\\lib\\site-packages (from python-dateutil>=2.1->matplotlib>=2.1.2->seaborn) (1.15.0)\n"
     ]
    }
   ],
   "source": [
    "pip install seaborn"
   ]
  },
  {
   "cell_type": "code",
   "execution_count": 3,
   "metadata": {
    "scrolled": true
   },
   "outputs": [
    {
     "name": "stdout",
     "output_type": "stream",
     "text": [
      "Requirement already satisfied: pandas in c:\\users\\ragav\\appdata\\local\\programs\\python\\python38\\lib\\site-packages (1.0.5)Note: you may need to restart the kernel to use updated packages.\n",
      "\n",
      "Requirement already satisfied: python-dateutil>=2.6.1 in c:\\users\\ragav\\appdata\\local\\programs\\python\\python38\\lib\\site-packages (from pandas) (2.8.1)\n",
      "Requirement already satisfied: pytz>=2017.2 in c:\\users\\ragav\\appdata\\local\\programs\\python\\python38\\lib\\site-packages (from pandas) (2020.1)\n",
      "Requirement already satisfied: numpy>=1.13.3 in c:\\users\\ragav\\appdata\\local\\programs\\python\\python38\\lib\\site-packages (from pandas) (1.19.0)\n",
      "Requirement already satisfied: six>=1.5 in c:\\users\\ragav\\appdata\\local\\programs\\python\\python38\\lib\\site-packages (from python-dateutil>=2.6.1->pandas) (1.15.0)\n"
     ]
    }
   ],
   "source": [
    "pip install pandas"
   ]
  },
  {
   "cell_type": "code",
   "execution_count": 4,
   "metadata": {},
   "outputs": [
    {
     "name": "stdout",
     "output_type": "stream",
     "text": [
      "Requirement already satisfied: numpy in c:\\users\\ragav\\appdata\\local\\programs\\python\\python38\\lib\\site-packages (1.19.0)\n",
      "Note: you may need to restart the kernel to use updated packages.\n"
     ]
    }
   ],
   "source": [
    "pip install numpy"
   ]
  },
  {
   "cell_type": "code",
   "execution_count": 5,
   "metadata": {},
   "outputs": [
    {
     "name": "stdout",
     "output_type": "stream",
     "text": [
      "Requirement already satisfied: matplotlib in c:\\users\\ragav\\appdata\\local\\programs\\python\\python38\\lib\\site-packages (3.2.2)\n",
      "Requirement already satisfied: pyparsing!=2.0.4,!=2.1.2,!=2.1.6,>=2.0.1 in c:\\users\\ragav\\appdata\\local\\programs\\python\\python38\\lib\\site-packages (from matplotlib) (2.4.7)\n",
      "Requirement already satisfied: numpy>=1.11 in c:\\users\\ragav\\appdata\\local\\programs\\python\\python38\\lib\\site-packages (from matplotlib) (1.19.0)\n",
      "Requirement already satisfied: python-dateutil>=2.1 in c:\\users\\ragav\\appdata\\local\\programs\\python\\python38\\lib\\site-packages (from matplotlib) (2.8.1)\n",
      "Requirement already satisfied: cycler>=0.10 in c:\\users\\ragav\\appdata\\local\\programs\\python\\python38\\lib\\site-packages (from matplotlib) (0.10.0)\n",
      "Requirement already satisfied: kiwisolver>=1.0.1 in c:\\users\\ragav\\appdata\\local\\programs\\python\\python38\\lib\\site-packages (from matplotlib) (1.2.0)\n",
      "Requirement already satisfied: six>=1.5 in c:\\users\\ragav\\appdata\\local\\programs\\python\\python38\\lib\\site-packages (from python-dateutil>=2.1->matplotlib) (1.15.0)\n",
      "Note: you may need to restart the kernel to use updated packages.\n"
     ]
    }
   ],
   "source": [
    "pip install matplotlib"
   ]
  },
  {
   "cell_type": "code",
   "execution_count": 6,
   "metadata": {},
   "outputs": [],
   "source": [
    "import pandas as pd\n",
    "import numpy as np\n",
    "import matplotlib.pyplot as plt"
   ]
  },
  {
   "cell_type": "code",
   "execution_count": 7,
   "metadata": {},
   "outputs": [],
   "source": [
    "df=pd.read_csv(\"t1.csv\")"
   ]
  },
  {
   "cell_type": "code",
   "execution_count": 8,
   "metadata": {},
   "outputs": [
    {
     "data": {
      "text/html": [
       "<div>\n",
       "<style scoped>\n",
       "    .dataframe tbody tr th:only-of-type {\n",
       "        vertical-align: middle;\n",
       "    }\n",
       "\n",
       "    .dataframe tbody tr th {\n",
       "        vertical-align: top;\n",
       "    }\n",
       "\n",
       "    .dataframe thead th {\n",
       "        text-align: right;\n",
       "    }\n",
       "</style>\n",
       "<table border=\"1\" class=\"dataframe\">\n",
       "  <thead>\n",
       "    <tr style=\"text-align: right;\">\n",
       "      <th></th>\n",
       "      <th>Date/Time</th>\n",
       "      <th>LV ActivePower (kW)</th>\n",
       "      <th>Wind Speed (m/s)</th>\n",
       "      <th>Theoretical_Power_Curve (KWh)</th>\n",
       "      <th>Wind Direction (°)</th>\n",
       "    </tr>\n",
       "  </thead>\n",
       "  <tbody>\n",
       "    <tr>\n",
       "      <th>0</th>\n",
       "      <td>01 01 2018 00:00</td>\n",
       "      <td>380.047791</td>\n",
       "      <td>5.311336</td>\n",
       "      <td>416.328908</td>\n",
       "      <td>259.994904</td>\n",
       "    </tr>\n",
       "    <tr>\n",
       "      <th>1</th>\n",
       "      <td>01 01 2018 00:10</td>\n",
       "      <td>453.769196</td>\n",
       "      <td>5.672167</td>\n",
       "      <td>519.917511</td>\n",
       "      <td>268.641113</td>\n",
       "    </tr>\n",
       "    <tr>\n",
       "      <th>2</th>\n",
       "      <td>01 01 2018 00:20</td>\n",
       "      <td>306.376587</td>\n",
       "      <td>5.216037</td>\n",
       "      <td>390.900016</td>\n",
       "      <td>272.564789</td>\n",
       "    </tr>\n",
       "    <tr>\n",
       "      <th>3</th>\n",
       "      <td>01 01 2018 00:30</td>\n",
       "      <td>419.645905</td>\n",
       "      <td>5.659674</td>\n",
       "      <td>516.127569</td>\n",
       "      <td>271.258087</td>\n",
       "    </tr>\n",
       "    <tr>\n",
       "      <th>4</th>\n",
       "      <td>01 01 2018 00:40</td>\n",
       "      <td>380.650696</td>\n",
       "      <td>5.577941</td>\n",
       "      <td>491.702972</td>\n",
       "      <td>265.674286</td>\n",
       "    </tr>\n",
       "    <tr>\n",
       "      <th>...</th>\n",
       "      <td>...</td>\n",
       "      <td>...</td>\n",
       "      <td>...</td>\n",
       "      <td>...</td>\n",
       "      <td>...</td>\n",
       "    </tr>\n",
       "    <tr>\n",
       "      <th>50525</th>\n",
       "      <td>31 12 2018 23:10</td>\n",
       "      <td>2963.980957</td>\n",
       "      <td>11.404030</td>\n",
       "      <td>3397.190793</td>\n",
       "      <td>80.502724</td>\n",
       "    </tr>\n",
       "    <tr>\n",
       "      <th>50526</th>\n",
       "      <td>31 12 2018 23:20</td>\n",
       "      <td>1684.353027</td>\n",
       "      <td>7.332648</td>\n",
       "      <td>1173.055771</td>\n",
       "      <td>84.062599</td>\n",
       "    </tr>\n",
       "    <tr>\n",
       "      <th>50527</th>\n",
       "      <td>31 12 2018 23:30</td>\n",
       "      <td>2201.106934</td>\n",
       "      <td>8.435358</td>\n",
       "      <td>1788.284755</td>\n",
       "      <td>84.742500</td>\n",
       "    </tr>\n",
       "    <tr>\n",
       "      <th>50528</th>\n",
       "      <td>31 12 2018 23:40</td>\n",
       "      <td>2515.694092</td>\n",
       "      <td>9.421366</td>\n",
       "      <td>2418.382503</td>\n",
       "      <td>84.297913</td>\n",
       "    </tr>\n",
       "    <tr>\n",
       "      <th>50529</th>\n",
       "      <td>31 12 2018 23:50</td>\n",
       "      <td>2820.466064</td>\n",
       "      <td>9.979332</td>\n",
       "      <td>2779.184096</td>\n",
       "      <td>82.274620</td>\n",
       "    </tr>\n",
       "  </tbody>\n",
       "</table>\n",
       "<p>50530 rows × 5 columns</p>\n",
       "</div>"
      ],
      "text/plain": [
       "              Date/Time  LV ActivePower (kW)  Wind Speed (m/s)  \\\n",
       "0      01 01 2018 00:00           380.047791          5.311336   \n",
       "1      01 01 2018 00:10           453.769196          5.672167   \n",
       "2      01 01 2018 00:20           306.376587          5.216037   \n",
       "3      01 01 2018 00:30           419.645905          5.659674   \n",
       "4      01 01 2018 00:40           380.650696          5.577941   \n",
       "...                 ...                  ...               ...   \n",
       "50525  31 12 2018 23:10          2963.980957         11.404030   \n",
       "50526  31 12 2018 23:20          1684.353027          7.332648   \n",
       "50527  31 12 2018 23:30          2201.106934          8.435358   \n",
       "50528  31 12 2018 23:40          2515.694092          9.421366   \n",
       "50529  31 12 2018 23:50          2820.466064          9.979332   \n",
       "\n",
       "       Theoretical_Power_Curve (KWh)  Wind Direction (°)  \n",
       "0                         416.328908          259.994904  \n",
       "1                         519.917511          268.641113  \n",
       "2                         390.900016          272.564789  \n",
       "3                         516.127569          271.258087  \n",
       "4                         491.702972          265.674286  \n",
       "...                              ...                 ...  \n",
       "50525                    3397.190793           80.502724  \n",
       "50526                    1173.055771           84.062599  \n",
       "50527                    1788.284755           84.742500  \n",
       "50528                    2418.382503           84.297913  \n",
       "50529                    2779.184096           82.274620  \n",
       "\n",
       "[50530 rows x 5 columns]"
      ]
     },
     "execution_count": 8,
     "metadata": {},
     "output_type": "execute_result"
    }
   ],
   "source": [
    "df"
   ]
  },
  {
   "cell_type": "code",
   "execution_count": 9,
   "metadata": {},
   "outputs": [],
   "source": [
    "df = df.rename(columns={\"LV ActivePower (kW)\":\"ap\",\"Wind Speed (m/s)\":\"velo\",\"Theoretical_Power_Curve (KWh)\":\"tpc\"})"
   ]
  },
  {
   "cell_type": "code",
   "execution_count": 10,
   "metadata": {},
   "outputs": [
    {
     "data": {
      "text/plain": [
       "{'divide': 'warn', 'over': 'warn', 'under': 'ignore', 'invalid': 'warn'}"
      ]
     },
     "execution_count": 10,
     "metadata": {},
     "output_type": "execute_result"
    }
   ],
   "source": [
    "df['date'] = [d[:d.rfind(' ')] for d in df['Date/Time']]\n",
    "df['time'] = [d[d.rfind(' '):] for d in df['Date/Time']]\n",
    "df[\"vcube\"] = df[\"velo\"]**3\n",
    "np.seterr(all='warn')\n"
   ]
  },
  {
   "cell_type": "code",
   "execution_count": 11,
   "metadata": {},
   "outputs": [
    {
     "data": {
      "text/html": [
       "<div>\n",
       "<style scoped>\n",
       "    .dataframe tbody tr th:only-of-type {\n",
       "        vertical-align: middle;\n",
       "    }\n",
       "\n",
       "    .dataframe tbody tr th {\n",
       "        vertical-align: top;\n",
       "    }\n",
       "\n",
       "    .dataframe thead th {\n",
       "        text-align: right;\n",
       "    }\n",
       "</style>\n",
       "<table border=\"1\" class=\"dataframe\">\n",
       "  <thead>\n",
       "    <tr style=\"text-align: right;\">\n",
       "      <th></th>\n",
       "      <th>Date/Time</th>\n",
       "      <th>ap</th>\n",
       "      <th>velo</th>\n",
       "      <th>tpc</th>\n",
       "      <th>Wind Direction (°)</th>\n",
       "      <th>date</th>\n",
       "      <th>time</th>\n",
       "      <th>vcube</th>\n",
       "    </tr>\n",
       "  </thead>\n",
       "  <tbody>\n",
       "    <tr>\n",
       "      <th>0</th>\n",
       "      <td>01 01 2018 00:00</td>\n",
       "      <td>380.047791</td>\n",
       "      <td>5.311336</td>\n",
       "      <td>416.328908</td>\n",
       "      <td>259.994904</td>\n",
       "      <td>01 01 2018</td>\n",
       "      <td>00:00</td>\n",
       "      <td>149.834333</td>\n",
       "    </tr>\n",
       "    <tr>\n",
       "      <th>1</th>\n",
       "      <td>01 01 2018 00:10</td>\n",
       "      <td>453.769196</td>\n",
       "      <td>5.672167</td>\n",
       "      <td>519.917511</td>\n",
       "      <td>268.641113</td>\n",
       "      <td>01 01 2018</td>\n",
       "      <td>00:10</td>\n",
       "      <td>182.493326</td>\n",
       "    </tr>\n",
       "    <tr>\n",
       "      <th>2</th>\n",
       "      <td>01 01 2018 00:20</td>\n",
       "      <td>306.376587</td>\n",
       "      <td>5.216037</td>\n",
       "      <td>390.900016</td>\n",
       "      <td>272.564789</td>\n",
       "      <td>01 01 2018</td>\n",
       "      <td>00:20</td>\n",
       "      <td>141.912921</td>\n",
       "    </tr>\n",
       "    <tr>\n",
       "      <th>3</th>\n",
       "      <td>01 01 2018 00:30</td>\n",
       "      <td>419.645905</td>\n",
       "      <td>5.659674</td>\n",
       "      <td>516.127569</td>\n",
       "      <td>271.258087</td>\n",
       "      <td>01 01 2018</td>\n",
       "      <td>00:30</td>\n",
       "      <td>181.290183</td>\n",
       "    </tr>\n",
       "    <tr>\n",
       "      <th>4</th>\n",
       "      <td>01 01 2018 00:40</td>\n",
       "      <td>380.650696</td>\n",
       "      <td>5.577941</td>\n",
       "      <td>491.702972</td>\n",
       "      <td>265.674286</td>\n",
       "      <td>01 01 2018</td>\n",
       "      <td>00:40</td>\n",
       "      <td>173.548848</td>\n",
       "    </tr>\n",
       "    <tr>\n",
       "      <th>...</th>\n",
       "      <td>...</td>\n",
       "      <td>...</td>\n",
       "      <td>...</td>\n",
       "      <td>...</td>\n",
       "      <td>...</td>\n",
       "      <td>...</td>\n",
       "      <td>...</td>\n",
       "      <td>...</td>\n",
       "    </tr>\n",
       "    <tr>\n",
       "      <th>50525</th>\n",
       "      <td>31 12 2018 23:10</td>\n",
       "      <td>2963.980957</td>\n",
       "      <td>11.404030</td>\n",
       "      <td>3397.190793</td>\n",
       "      <td>80.502724</td>\n",
       "      <td>31 12 2018</td>\n",
       "      <td>23:10</td>\n",
       "      <td>1483.115712</td>\n",
       "    </tr>\n",
       "    <tr>\n",
       "      <th>50526</th>\n",
       "      <td>31 12 2018 23:20</td>\n",
       "      <td>1684.353027</td>\n",
       "      <td>7.332648</td>\n",
       "      <td>1173.055771</td>\n",
       "      <td>84.062599</td>\n",
       "      <td>31 12 2018</td>\n",
       "      <td>23:20</td>\n",
       "      <td>394.259781</td>\n",
       "    </tr>\n",
       "    <tr>\n",
       "      <th>50527</th>\n",
       "      <td>31 12 2018 23:30</td>\n",
       "      <td>2201.106934</td>\n",
       "      <td>8.435358</td>\n",
       "      <td>1788.284755</td>\n",
       "      <td>84.742500</td>\n",
       "      <td>31 12 2018</td>\n",
       "      <td>23:30</td>\n",
       "      <td>600.220141</td>\n",
       "    </tr>\n",
       "    <tr>\n",
       "      <th>50528</th>\n",
       "      <td>31 12 2018 23:40</td>\n",
       "      <td>2515.694092</td>\n",
       "      <td>9.421366</td>\n",
       "      <td>2418.382503</td>\n",
       "      <td>84.297913</td>\n",
       "      <td>31 12 2018</td>\n",
       "      <td>23:40</td>\n",
       "      <td>836.260513</td>\n",
       "    </tr>\n",
       "    <tr>\n",
       "      <th>50529</th>\n",
       "      <td>31 12 2018 23:50</td>\n",
       "      <td>2820.466064</td>\n",
       "      <td>9.979332</td>\n",
       "      <td>2779.184096</td>\n",
       "      <td>82.274620</td>\n",
       "      <td>31 12 2018</td>\n",
       "      <td>23:50</td>\n",
       "      <td>993.812397</td>\n",
       "    </tr>\n",
       "  </tbody>\n",
       "</table>\n",
       "<p>50530 rows × 8 columns</p>\n",
       "</div>"
      ],
      "text/plain": [
       "              Date/Time           ap       velo          tpc  \\\n",
       "0      01 01 2018 00:00   380.047791   5.311336   416.328908   \n",
       "1      01 01 2018 00:10   453.769196   5.672167   519.917511   \n",
       "2      01 01 2018 00:20   306.376587   5.216037   390.900016   \n",
       "3      01 01 2018 00:30   419.645905   5.659674   516.127569   \n",
       "4      01 01 2018 00:40   380.650696   5.577941   491.702972   \n",
       "...                 ...          ...        ...          ...   \n",
       "50525  31 12 2018 23:10  2963.980957  11.404030  3397.190793   \n",
       "50526  31 12 2018 23:20  1684.353027   7.332648  1173.055771   \n",
       "50527  31 12 2018 23:30  2201.106934   8.435358  1788.284755   \n",
       "50528  31 12 2018 23:40  2515.694092   9.421366  2418.382503   \n",
       "50529  31 12 2018 23:50  2820.466064   9.979332  2779.184096   \n",
       "\n",
       "       Wind Direction (°)        date    time        vcube  \n",
       "0              259.994904  01 01 2018   00:00   149.834333  \n",
       "1              268.641113  01 01 2018   00:10   182.493326  \n",
       "2              272.564789  01 01 2018   00:20   141.912921  \n",
       "3              271.258087  01 01 2018   00:30   181.290183  \n",
       "4              265.674286  01 01 2018   00:40   173.548848  \n",
       "...                   ...         ...     ...          ...  \n",
       "50525           80.502724  31 12 2018   23:10  1483.115712  \n",
       "50526           84.062599  31 12 2018   23:20   394.259781  \n",
       "50527           84.742500  31 12 2018   23:30   600.220141  \n",
       "50528           84.297913  31 12 2018   23:40   836.260513  \n",
       "50529           82.274620  31 12 2018   23:50   993.812397  \n",
       "\n",
       "[50530 rows x 8 columns]"
      ]
     },
     "execution_count": 11,
     "metadata": {},
     "output_type": "execute_result"
    }
   ],
   "source": [
    "data = df[::]\n",
    "data"
   ]
  },
  {
   "cell_type": "code",
   "execution_count": 19,
   "metadata": {},
   "outputs": [],
   "source": [
    "def cost_function(X, y, theta):\n",
    "    m = len(y)\n",
    "    y_pred = X.dot(theta)\n",
    "    error = (y_pred - y) ** 2\n",
    "    return 1 / (2 * m) * np.sum(error)"
   ]
  },
  {
   "cell_type": "code",
   "execution_count": 20,
   "metadata": {},
   "outputs": [],
   "source": [
    "def gradient_descent(x, y, theta, alpha, iterations): \n",
    "    m = len(y)\n",
    "    costs = []\n",
    "    for i in range(iterations):\n",
    "        y_pred = x.dot(theta)\n",
    "        error = np.dot(x.transpose(), (y_pred - y))\n",
    "        theta -= alpha * 1/m * error\n",
    "        costs.append(cost_function(x, y, theta))\n",
    "        \n",
    "    return theta, costs"
   ]
  },
  {
   "cell_type": "code",
   "execution_count": 21,
   "metadata": {},
   "outputs": [
    {
     "data": {
      "text/plain": [
       "array([259.99490356, 268.64111328, 272.56478882, ...,  84.74250031,\n",
       "        84.2979126 ,  82.27462006])"
      ]
     },
     "execution_count": 21,
     "metadata": {},
     "output_type": "execute_result"
    }
   ],
   "source": [
    "wd = df.iloc[:,-4].values\n",
    "wd"
   ]
  },
  {
   "cell_type": "code",
   "execution_count": 22,
   "metadata": {},
   "outputs": [
    {
     "data": {
      "text/plain": [
       "1716276.7422258097"
      ]
     },
     "execution_count": 22,
     "metadata": {},
     "output_type": "execute_result"
    }
   ],
   "source": [
    "m=data.vcube.values.size\n",
    "x = np.append(np.ones((m, 1)), data.vcube.values.reshape(m,1), axis=1)\n",
    "y = data[\"ap\"].values.reshape(m,1)\n",
    "theta = np.zeros((2,1))\n",
    "costs=[]\n",
    "cost_function(x, y, theta)"
   ]
  },
  {
   "cell_type": "code",
   "execution_count": 23,
   "metadata": {},
   "outputs": [
    {
     "data": {
      "text/plain": [
       "(50530, 2)"
      ]
     },
     "execution_count": 23,
     "metadata": {},
     "output_type": "execute_result"
    }
   ],
   "source": [
    "x.shape"
   ]
  },
  {
   "cell_type": "code",
   "execution_count": 24,
   "metadata": {},
   "outputs": [
    {
     "data": {
      "text/plain": [
       "(array([[0.],\n",
       "        [0.]]),\n",
       " [])"
      ]
     },
     "execution_count": 24,
     "metadata": {},
     "output_type": "execute_result"
    }
   ],
   "source": [
    "theta,costs"
   ]
  },
  {
   "cell_type": "code",
   "execution_count": 25,
   "metadata": {},
   "outputs": [],
   "source": [
    "theta, costs = gradient_descent(x, y, theta, alpha=0.01, iterations=32)"
   ]
  },
  {
   "cell_type": "code",
   "execution_count": 26,
   "metadata": {},
   "outputs": [
    {
     "data": {
      "text/plain": [
       "(array([[-2.49175889e+138],\n",
       "        [-7.67725881e+141]]),\n",
       " [862800746263075.0,\n",
       "  6.395300167717111e+23,\n",
       "  4.740360325186529e+32,\n",
       "  3.513676516081922e+41,\n",
       "  2.604427050422543e+50,\n",
       "  1.9304680524593038e+59,\n",
       "  1.430912377047155e+68,\n",
       "  1.060628912339845e+77,\n",
       "  7.861653220252577e+85,\n",
       "  5.827258774151179e+94,\n",
       "  4.319313491651433e+103,\n",
       "  3.2015858162879786e+112,\n",
       "  2.3730974282992765e+121,\n",
       "  1.7590006101195404e+130,\n",
       "  1.3038163159691037e+139,\n",
       "  9.664220558011726e+147,\n",
       "  7.163367864780584e+156,\n",
       "  5.309671779337787e+165,\n",
       "  3.935664751060461e+174,\n",
       "  2.917215541084093e+183,\n",
       "  2.1623148950503212e+192,\n",
       "  1.6027631964482578e+201,\n",
       "  1.1880091423174747e+210,\n",
       "  8.805828118324085e+218,\n",
       "  6.527105397371199e+227,\n",
       "  4.838057738117688e+236,\n",
       "  3.5860923414516304e+245,\n",
       "  2.6581035154039743e+254,\n",
       "  1.9702544234382115e+263,\n",
       "  1.4604030545017638e+272,\n",
       "  1.0824881579893909e+281,\n",
       "  8.023679549116198e+289])"
      ]
     },
     "execution_count": 26,
     "metadata": {},
     "output_type": "execute_result"
    }
   ],
   "source": [
    "theta,costs"
   ]
  },
  {
   "cell_type": "code",
   "execution_count": 27,
   "metadata": {},
   "outputs": [],
   "source": [
    "x = data[[\"vcube\",\"Wind Direction (°)\"]]\n",
    "y = data[\"ap\"]"
   ]
  },
  {
   "cell_type": "code",
   "execution_count": 28,
   "metadata": {},
   "outputs": [],
   "source": [
    "from sklearn.model_selection import train_test_split"
   ]
  },
  {
   "cell_type": "code",
   "execution_count": 29,
   "metadata": {},
   "outputs": [],
   "source": [
    "x_train,y_train,x_test,y_test = train_test_split(x,y,test_size=0.4)"
   ]
  },
  {
   "cell_type": "code",
   "execution_count": 30,
   "metadata": {},
   "outputs": [],
   "source": [
    "from sklearn.linear_model import LinearRegression"
   ]
  },
  {
   "cell_type": "code",
   "execution_count": 31,
   "metadata": {},
   "outputs": [],
   "source": [
    "model = LinearRegression()"
   ]
  },
  {
   "cell_type": "code",
   "execution_count": 32,
   "metadata": {},
   "outputs": [
    {
     "data": {
      "text/plain": [
       "LinearRegression()"
      ]
     },
     "execution_count": 32,
     "metadata": {},
     "output_type": "execute_result"
    }
   ],
   "source": [
    "model.fit(x,y)"
   ]
  },
  {
   "cell_type": "code",
   "execution_count": 33,
   "metadata": {},
   "outputs": [
    {
     "data": {
      "text/plain": [
       "873.2259192944637"
      ]
     },
     "execution_count": 33,
     "metadata": {},
     "output_type": "execute_result"
    }
   ],
   "source": [
    "model.intercept_"
   ]
  },
  {
   "cell_type": "code",
   "execution_count": 34,
   "metadata": {},
   "outputs": [
    {
     "data": {
      "text/plain": [
       "array([ 0.70797852, -1.54552334])"
      ]
     },
     "execution_count": 34,
     "metadata": {},
     "output_type": "execute_result"
    }
   ],
   "source": [
    "model.coef_"
   ]
  },
  {
   "cell_type": "code",
   "execution_count": 35,
   "metadata": {},
   "outputs": [
    {
     "data": {
      "text/plain": [
       "array([577.47721555])"
      ]
     },
     "execution_count": 35,
     "metadata": {},
     "output_type": "execute_result"
    }
   ],
   "source": [
    "model.predict([[149.834333,259.994904]])"
   ]
  },
  {
   "cell_type": "code",
   "execution_count": 36,
   "metadata": {},
   "outputs": [
    {
     "name": "stdout",
     "output_type": "stream",
     "text": [
      "Requirement already satisfied: watson_machine_learning_client in c:\\users\\ragav\\appdata\\local\\programs\\python\\python38\\lib\\site-packages (1.0.378)Note: you may need to restart the kernel to use updated packages.\n",
      "\n",
      "Requirement already satisfied: lomond in c:\\users\\ragav\\appdata\\local\\programs\\python\\python38\\lib\\site-packages (from watson_machine_learning_client) (0.3.3)\n",
      "Requirement already satisfied: ibm-cos-sdk in c:\\users\\ragav\\appdata\\local\\programs\\python\\python38\\lib\\site-packages (from watson_machine_learning_client) (2.6.3)\n",
      "Requirement already satisfied: certifi in c:\\users\\ragav\\appdata\\local\\programs\\python\\python38\\lib\\site-packages (from watson_machine_learning_client) (2020.4.5.1)\n",
      "Requirement already satisfied: tqdm in c:\\users\\ragav\\appdata\\local\\programs\\python\\python38\\lib\\site-packages (from watson_machine_learning_client) (4.47.0)\n",
      "Requirement already satisfied: urllib3 in c:\\users\\ragav\\appdata\\local\\programs\\python\\python38\\lib\\site-packages (from watson_machine_learning_client) (1.25.9)\n",
      "Requirement already satisfied: requests in c:\\users\\ragav\\appdata\\local\\programs\\python\\python38\\lib\\site-packages (from watson_machine_learning_client) (2.23.0)\n",
      "Requirement already satisfied: pandas in c:\\users\\ragav\\appdata\\local\\programs\\python\\python38\\lib\\site-packages (from watson_machine_learning_client) (1.0.5)\n",
      "Requirement already satisfied: tabulate in c:\\users\\ragav\\appdata\\local\\programs\\python\\python38\\lib\\site-packages (from watson_machine_learning_client) (0.8.7)\n",
      "Requirement already satisfied: six>=1.10.0 in c:\\users\\ragav\\appdata\\local\\programs\\python\\python38\\lib\\site-packages (from lomond->watson_machine_learning_client) (1.15.0)\n",
      "Requirement already satisfied: ibm-cos-sdk-core==2.6.3 in c:\\users\\ragav\\appdata\\local\\programs\\python\\python38\\lib\\site-packages (from ibm-cos-sdk->watson_machine_learning_client) (2.6.3)\n",
      "Requirement already satisfied: ibm-cos-sdk-s3transfer==2.6.3 in c:\\users\\ragav\\appdata\\local\\programs\\python\\python38\\lib\\site-packages (from ibm-cos-sdk->watson_machine_learning_client) (2.6.3)\n",
      "Requirement already satisfied: jmespath<1.0.0,>=0.7.1 in c:\\users\\ragav\\appdata\\local\\programs\\python\\python38\\lib\\site-packages (from ibm-cos-sdk->watson_machine_learning_client) (0.10.0)\n",
      "Requirement already satisfied: chardet<4,>=3.0.2 in c:\\users\\ragav\\appdata\\local\\programs\\python\\python38\\lib\\site-packages (from requests->watson_machine_learning_client) (3.0.4)\n",
      "Requirement already satisfied: idna<3,>=2.5 in c:\\users\\ragav\\appdata\\local\\programs\\python\\python38\\lib\\site-packages (from requests->watson_machine_learning_client) (2.9)\n",
      "Requirement already satisfied: numpy>=1.13.3 in c:\\users\\ragav\\appdata\\local\\programs\\python\\python38\\lib\\site-packages (from pandas->watson_machine_learning_client) (1.19.0)\n",
      "Requirement already satisfied: python-dateutil>=2.6.1 in c:\\users\\ragav\\appdata\\local\\programs\\python\\python38\\lib\\site-packages (from pandas->watson_machine_learning_client) (2.8.1)\n",
      "Requirement already satisfied: pytz>=2017.2 in c:\\users\\ragav\\appdata\\local\\programs\\python\\python38\\lib\\site-packages (from pandas->watson_machine_learning_client) (2020.1)\n",
      "Requirement already satisfied: docutils<0.16,>=0.10 in c:\\users\\ragav\\appdata\\local\\programs\\python\\python38\\lib\\site-packages (from ibm-cos-sdk-core==2.6.3->ibm-cos-sdk->watson_machine_learning_client) (0.15.2)\n"
     ]
    }
   ],
   "source": [
    "pip install watson_machine_learning_client"
   ]
  },
  {
   "cell_type": "code",
   "execution_count": 41,
   "metadata": {},
   "outputs": [
    {
     "name": "stdout",
     "output_type": "stream",
     "text": [
      "Requirement already satisfied: sklearn in c:\\users\\ragav\\appdata\\local\\programs\\python\\python38\\lib\\site-packages (0.0)Note: you may need to restart the kernel to use updated packages.\n",
      "\n",
      "Requirement already satisfied: scikit-learn in c:\\users\\ragav\\appdata\\local\\programs\\python\\python38\\lib\\site-packages (from sklearn) (0.23.1)\n",
      "Requirement already satisfied: scipy>=0.19.1 in c:\\users\\ragav\\appdata\\local\\programs\\python\\python38\\lib\\site-packages (from scikit-learn->sklearn) (1.5.0)\n",
      "Requirement already satisfied: joblib>=0.11 in c:\\users\\ragav\\appdata\\local\\programs\\python\\python38\\lib\\site-packages (from scikit-learn->sklearn) (0.15.1)\n",
      "Requirement already satisfied: threadpoolctl>=2.0.0 in c:\\users\\ragav\\appdata\\local\\programs\\python\\python38\\lib\\site-packages (from scikit-learn->sklearn) (2.1.0)\n",
      "Requirement already satisfied: numpy>=1.13.3 in c:\\users\\ragav\\appdata\\local\\programs\\python\\python38\\lib\\site-packages (from scikit-learn->sklearn) (1.19.0)\n"
     ]
    }
   ],
   "source": [
    "pip install sklearn"
   ]
  },
  {
   "cell_type": "code",
   "execution_count": 42,
   "metadata": {},
   "outputs": [
    {
     "ename": "ModuleNotFoundError",
     "evalue": "No module named 'sklearn.external'",
     "output_type": "error",
     "traceback": [
      "\u001b[1;31m---------------------------------------------------------------------------\u001b[0m",
      "\u001b[1;31mModuleNotFoundError\u001b[0m                       Traceback (most recent call last)",
      "\u001b[1;32m<ipython-input-42-fd74f5e07d68>\u001b[0m in \u001b[0;36m<module>\u001b[1;34m\u001b[0m\n\u001b[1;32m----> 1\u001b[1;33m \u001b[1;32mimport\u001b[0m \u001b[0msklearn\u001b[0m\u001b[1;33m.\u001b[0m\u001b[0mexternal\u001b[0m\u001b[1;33m.\u001b[0m\u001b[0mjoblib\u001b[0m \u001b[1;32mas\u001b[0m \u001b[0mextjoblib\u001b[0m\u001b[1;33m\u001b[0m\u001b[1;33m\u001b[0m\u001b[0m\n\u001b[0m\u001b[0;32m      2\u001b[0m \u001b[1;32mimport\u001b[0m \u001b[0mjoblib\u001b[0m\u001b[1;33m\u001b[0m\u001b[1;33m\u001b[0m\u001b[0m\n",
      "\u001b[1;31mModuleNotFoundError\u001b[0m: No module named 'sklearn.external'"
     ]
    }
   ],
   "source": [
    "import sklearn.external.joblib as extjoblib\n",
    "import joblib"
   ]
  },
  {
   "cell_type": "code",
   "execution_count": 38,
   "metadata": {},
   "outputs": [
    {
     "ename": "ImportError",
     "evalue": "cannot import name 'joblib' from 'sklearn.externals' (c:\\users\\ragav\\appdata\\local\\programs\\python\\python38\\lib\\site-packages\\sklearn\\externals\\__init__.py)",
     "output_type": "error",
     "traceback": [
      "\u001b[1;31m---------------------------------------------------------------------------\u001b[0m",
      "\u001b[1;31mImportError\u001b[0m                               Traceback (most recent call last)",
      "\u001b[1;32m<ipython-input-38-987067e9d939>\u001b[0m in \u001b[0;36m<module>\u001b[1;34m\u001b[0m\n\u001b[1;32m----> 1\u001b[1;33m \u001b[1;32mfrom\u001b[0m \u001b[0mwatson_machine_learning_client\u001b[0m \u001b[1;32mimport\u001b[0m \u001b[0mWatsonMachineLearningAPIClient\u001b[0m\u001b[1;33m\u001b[0m\u001b[1;33m\u001b[0m\u001b[0m\n\u001b[0m",
      "\u001b[1;32mc:\\users\\ragav\\appdata\\local\\programs\\python\\python38\\lib\\site-packages\\watson_machine_learning_client\\__init__.py\u001b[0m in \u001b[0;36m<module>\u001b[1;34m\u001b[0m\n\u001b[0;32m     15\u001b[0m     \u001b[1;32mpass\u001b[0m\u001b[1;33m\u001b[0m\u001b[1;33m\u001b[0m\u001b[0m\n\u001b[0;32m     16\u001b[0m \u001b[1;32mfrom\u001b[0m \u001b[1;33m.\u001b[0m\u001b[0mutils\u001b[0m \u001b[1;32mimport\u001b[0m \u001b[0mversion\u001b[0m\u001b[1;33m\u001b[0m\u001b[1;33m\u001b[0m\u001b[0m\n\u001b[1;32m---> 17\u001b[1;33m \u001b[1;32mfrom\u001b[0m \u001b[1;33m.\u001b[0m\u001b[0mclient\u001b[0m \u001b[1;32mimport\u001b[0m \u001b[0mWatsonMachineLearningAPIClient\u001b[0m\u001b[1;33m\u001b[0m\u001b[1;33m\u001b[0m\u001b[0m\n\u001b[0m\u001b[0;32m     18\u001b[0m \u001b[1;33m\u001b[0m\u001b[0m\n\u001b[0;32m     19\u001b[0m \u001b[1;32mfrom\u001b[0m \u001b[1;33m.\u001b[0m\u001b[0mutils\u001b[0m \u001b[1;32mimport\u001b[0m \u001b[0mis_python_2\u001b[0m\u001b[1;33m\u001b[0m\u001b[1;33m\u001b[0m\u001b[0m\n",
      "\u001b[1;32mc:\\users\\ragav\\appdata\\local\\programs\\python\\python38\\lib\\site-packages\\watson_machine_learning_client\\client.py\u001b[0m in \u001b[0;36m<module>\u001b[1;34m\u001b[0m\n\u001b[0;32m     12\u001b[0m \u001b[1;32mfrom\u001b[0m \u001b[0mwatson_machine_learning_client\u001b[0m\u001b[1;33m.\u001b[0m\u001b[0mlearning_system\u001b[0m \u001b[1;32mimport\u001b[0m \u001b[0mLearningSystem\u001b[0m\u001b[1;33m\u001b[0m\u001b[1;33m\u001b[0m\u001b[0m\n\u001b[0;32m     13\u001b[0m \u001b[1;32mfrom\u001b[0m \u001b[0mwatson_machine_learning_client\u001b[0m\u001b[1;33m.\u001b[0m\u001b[0mexperiments\u001b[0m \u001b[1;32mimport\u001b[0m \u001b[0mExperiments\u001b[0m\u001b[1;33m\u001b[0m\u001b[1;33m\u001b[0m\u001b[0m\n\u001b[1;32m---> 14\u001b[1;33m \u001b[1;32mfrom\u001b[0m \u001b[0mwatson_machine_learning_client\u001b[0m\u001b[1;33m.\u001b[0m\u001b[0mrepository\u001b[0m \u001b[1;32mimport\u001b[0m \u001b[0mRepository\u001b[0m\u001b[1;33m\u001b[0m\u001b[1;33m\u001b[0m\u001b[0m\n\u001b[0m\u001b[0;32m     15\u001b[0m \u001b[1;32mfrom\u001b[0m \u001b[0mwatson_machine_learning_client\u001b[0m\u001b[1;33m.\u001b[0m\u001b[0mmodels\u001b[0m \u001b[1;32mimport\u001b[0m \u001b[0mModels\u001b[0m\u001b[1;33m\u001b[0m\u001b[1;33m\u001b[0m\u001b[0m\n\u001b[0;32m     16\u001b[0m \u001b[1;32mfrom\u001b[0m \u001b[0mwatson_machine_learning_client\u001b[0m\u001b[1;33m.\u001b[0m\u001b[0mdefinitions\u001b[0m \u001b[1;32mimport\u001b[0m \u001b[0mDefinitions\u001b[0m\u001b[1;33m\u001b[0m\u001b[1;33m\u001b[0m\u001b[0m\n",
      "\u001b[1;32mc:\\users\\ragav\\appdata\\local\\programs\\python\\python38\\lib\\site-packages\\watson_machine_learning_client\\repository.py\u001b[0m in \u001b[0;36m<module>\u001b[1;34m\u001b[0m\n\u001b[0;32m     14\u001b[0m \u001b[1;32mfrom\u001b[0m \u001b[0mwatson_machine_learning_client\u001b[0m\u001b[1;33m.\u001b[0m\u001b[0mwml_client_error\u001b[0m \u001b[1;32mimport\u001b[0m \u001b[0mWMLClientError\u001b[0m\u001b[1;33m\u001b[0m\u001b[1;33m\u001b[0m\u001b[0m\n\u001b[0;32m     15\u001b[0m \u001b[1;32mfrom\u001b[0m \u001b[0mwatson_machine_learning_client\u001b[0m\u001b[1;33m.\u001b[0m\u001b[0mwml_resource\u001b[0m \u001b[1;32mimport\u001b[0m \u001b[0mWMLResource\u001b[0m\u001b[1;33m\u001b[0m\u001b[1;33m\u001b[0m\u001b[0m\n\u001b[1;32m---> 16\u001b[1;33m \u001b[1;32mfrom\u001b[0m \u001b[0mwatson_machine_learning_client\u001b[0m\u001b[1;33m.\u001b[0m\u001b[0mmodels\u001b[0m \u001b[1;32mimport\u001b[0m \u001b[0mModels\u001b[0m\u001b[1;33m\u001b[0m\u001b[1;33m\u001b[0m\u001b[0m\n\u001b[0m\u001b[0;32m     17\u001b[0m \u001b[1;32mfrom\u001b[0m \u001b[0mwatson_machine_learning_client\u001b[0m\u001b[1;33m.\u001b[0m\u001b[0mdefinitions\u001b[0m \u001b[1;32mimport\u001b[0m \u001b[0mDefinitions\u001b[0m\u001b[1;33m\u001b[0m\u001b[1;33m\u001b[0m\u001b[0m\n\u001b[0;32m     18\u001b[0m \u001b[1;32mfrom\u001b[0m \u001b[0mwatson_machine_learning_client\u001b[0m\u001b[1;33m.\u001b[0m\u001b[0mexperiments\u001b[0m \u001b[1;32mimport\u001b[0m \u001b[0mExperiments\u001b[0m\u001b[1;33m\u001b[0m\u001b[1;33m\u001b[0m\u001b[0m\n",
      "\u001b[1;32mc:\\users\\ragav\\appdata\\local\\programs\\python\\python38\\lib\\site-packages\\watson_machine_learning_client\\models.py\u001b[0m in \u001b[0;36m<module>\u001b[1;34m\u001b[0m\n\u001b[0;32m      9\u001b[0m \u001b[1;33m\u001b[0m\u001b[0m\n\u001b[0;32m     10\u001b[0m \u001b[1;32mfrom\u001b[0m \u001b[0m__future__\u001b[0m \u001b[1;32mimport\u001b[0m \u001b[0mprint_function\u001b[0m\u001b[1;33m\u001b[0m\u001b[1;33m\u001b[0m\u001b[0m\n\u001b[1;32m---> 11\u001b[1;33m \u001b[1;32mfrom\u001b[0m \u001b[0mwatson_machine_learning_client\u001b[0m\u001b[1;33m.\u001b[0m\u001b[0mlibs\u001b[0m\u001b[1;33m.\u001b[0m\u001b[0mrepo\u001b[0m\u001b[1;33m.\u001b[0m\u001b[0mmlrepositoryartifact\u001b[0m \u001b[1;32mimport\u001b[0m \u001b[0mMLRepositoryArtifact\u001b[0m\u001b[1;33m\u001b[0m\u001b[1;33m\u001b[0m\u001b[0m\n\u001b[0m\u001b[0;32m     12\u001b[0m \u001b[1;32mfrom\u001b[0m \u001b[0mwatson_machine_learning_client\u001b[0m\u001b[1;33m.\u001b[0m\u001b[0mlibs\u001b[0m\u001b[1;33m.\u001b[0m\u001b[0mrepo\u001b[0m\u001b[1;33m.\u001b[0m\u001b[0mmlrepository\u001b[0m \u001b[1;32mimport\u001b[0m \u001b[0mMetaProps\u001b[0m\u001b[1;33m,\u001b[0m \u001b[0mMetaNames\u001b[0m\u001b[1;33m\u001b[0m\u001b[1;33m\u001b[0m\u001b[0m\n\u001b[0;32m     13\u001b[0m \u001b[1;32mimport\u001b[0m \u001b[0mrequests\u001b[0m\u001b[1;33m\u001b[0m\u001b[1;33m\u001b[0m\u001b[0m\n",
      "\u001b[1;32mc:\\users\\ragav\\appdata\\local\\programs\\python\\python38\\lib\\site-packages\\watson_machine_learning_client\\libs\\repo\\mlrepositoryartifact\\__init__.py\u001b[0m in \u001b[0;36m<module>\u001b[1;34m\u001b[0m\n\u001b[0;32m     10\u001b[0m \u001b[0mwarnings\u001b[0m\u001b[1;33m.\u001b[0m\u001b[0mfilterwarnings\u001b[0m\u001b[1;33m(\u001b[0m\u001b[1;34m\"ignore\"\u001b[0m\u001b[1;33m,\u001b[0m \u001b[0mcategory\u001b[0m\u001b[1;33m=\u001b[0m\u001b[0mFutureWarning\u001b[0m\u001b[1;33m)\u001b[0m\u001b[1;33m\u001b[0m\u001b[1;33m\u001b[0m\u001b[0m\n\u001b[0;32m     11\u001b[0m \u001b[1;33m\u001b[0m\u001b[0m\n\u001b[1;32m---> 12\u001b[1;33m \u001b[1;32mfrom\u001b[0m \u001b[1;33m.\u001b[0m\u001b[0mml_repository_artifact\u001b[0m \u001b[1;32mimport\u001b[0m \u001b[0mMLRepositoryArtifact\u001b[0m\u001b[1;33m\u001b[0m\u001b[1;33m\u001b[0m\u001b[0m\n\u001b[0m\u001b[0;32m     13\u001b[0m \u001b[1;32mfrom\u001b[0m \u001b[1;33m.\u001b[0m\u001b[0mspark_artifact_loader\u001b[0m \u001b[1;32mimport\u001b[0m \u001b[0mSparkArtifactLoader\u001b[0m\u001b[1;33m\u001b[0m\u001b[1;33m\u001b[0m\u001b[0m\n\u001b[0;32m     14\u001b[0m \u001b[1;32mfrom\u001b[0m \u001b[1;33m.\u001b[0m\u001b[0mspark_pipeline_artifact\u001b[0m \u001b[1;32mimport\u001b[0m \u001b[0mSparkPipelineArtifact\u001b[0m\u001b[1;33m\u001b[0m\u001b[1;33m\u001b[0m\u001b[0m\n",
      "\u001b[1;32mc:\\users\\ragav\\appdata\\local\\programs\\python\\python38\\lib\\site-packages\\watson_machine_learning_client\\libs\\repo\\mlrepositoryartifact\\ml_repository_artifact.py\u001b[0m in \u001b[0;36m<module>\u001b[1;34m\u001b[0m\n\u001b[0;32m     30\u001b[0m \u001b[1;33m\u001b[0m\u001b[0m\n\u001b[0;32m     31\u001b[0m \u001b[1;32mif\u001b[0m \u001b[0mlib_checker\u001b[0m\u001b[1;33m.\u001b[0m\u001b[0minstalled_libs\u001b[0m\u001b[1;33m[\u001b[0m\u001b[0mSCIKIT\u001b[0m\u001b[1;33m]\u001b[0m\u001b[1;33m:\u001b[0m\u001b[1;33m\u001b[0m\u001b[1;33m\u001b[0m\u001b[0m\n\u001b[1;32m---> 32\u001b[1;33m     \u001b[1;32mfrom\u001b[0m \u001b[0mwatson_machine_learning_client\u001b[0m\u001b[1;33m.\u001b[0m\u001b[0mlibs\u001b[0m\u001b[1;33m.\u001b[0m\u001b[0mrepo\u001b[0m\u001b[1;33m.\u001b[0m\u001b[0mmlrepositoryartifact\u001b[0m\u001b[1;33m.\u001b[0m\u001b[0mscikit_pipeline_model_artifact\u001b[0m \u001b[1;32mimport\u001b[0m \u001b[0mScikitPipelineModelArtifact\u001b[0m\u001b[1;33m\u001b[0m\u001b[1;33m\u001b[0m\u001b[0m\n\u001b[0m\u001b[0;32m     33\u001b[0m     \u001b[1;32mfrom\u001b[0m \u001b[0msklearn\u001b[0m\u001b[1;33m.\u001b[0m\u001b[0mbase\u001b[0m \u001b[1;32mimport\u001b[0m \u001b[0mBaseEstimator\u001b[0m\u001b[1;33m\u001b[0m\u001b[1;33m\u001b[0m\u001b[0m\n\u001b[0;32m     34\u001b[0m \u001b[1;33m\u001b[0m\u001b[0m\n",
      "\u001b[1;32mc:\\users\\ragav\\appdata\\local\\programs\\python\\python38\\lib\\site-packages\\watson_machine_learning_client\\libs\\repo\\mlrepositoryartifact\\scikit_pipeline_model_artifact.py\u001b[0m in \u001b[0;36m<module>\u001b[1;34m\u001b[0m\n\u001b[0;32m     21\u001b[0m \u001b[1;33m\u001b[0m\u001b[0m\n\u001b[0;32m     22\u001b[0m \u001b[1;32mif\u001b[0m \u001b[0mlib_checker\u001b[0m\u001b[1;33m.\u001b[0m\u001b[0minstalled_libs\u001b[0m\u001b[1;33m[\u001b[0m\u001b[0mSCIKIT\u001b[0m\u001b[1;33m]\u001b[0m\u001b[1;33m:\u001b[0m\u001b[1;33m\u001b[0m\u001b[1;33m\u001b[0m\u001b[0m\n\u001b[1;32m---> 23\u001b[1;33m     \u001b[1;32mfrom\u001b[0m \u001b[0mwatson_machine_learning_client\u001b[0m\u001b[1;33m.\u001b[0m\u001b[0mlibs\u001b[0m\u001b[1;33m.\u001b[0m\u001b[0mrepo\u001b[0m\u001b[1;33m.\u001b[0m\u001b[0mmlrepositoryartifact\u001b[0m\u001b[1;33m.\u001b[0m\u001b[0mscikit_pipeline_reader\u001b[0m \u001b[1;32mimport\u001b[0m \u001b[0mScikitPipelineReader\u001b[0m\u001b[1;33m\u001b[0m\u001b[1;33m\u001b[0m\u001b[0m\n\u001b[0m\u001b[0;32m     24\u001b[0m     \u001b[1;32mfrom\u001b[0m \u001b[0mwatson_machine_learning_client\u001b[0m\u001b[1;33m.\u001b[0m\u001b[0mlibs\u001b[0m\u001b[1;33m.\u001b[0m\u001b[0mrepo\u001b[0m\u001b[1;33m.\u001b[0m\u001b[0mmlrepositoryartifact\u001b[0m\u001b[1;33m.\u001b[0m\u001b[0mxgboost_model_reader\u001b[0m \u001b[1;32mimport\u001b[0m \u001b[0mXGBoostModelReader\u001b[0m\u001b[1;33m\u001b[0m\u001b[1;33m\u001b[0m\u001b[0m\n\u001b[0;32m     25\u001b[0m     \u001b[1;32mfrom\u001b[0m \u001b[0msklearn\u001b[0m\u001b[1;33m.\u001b[0m\u001b[0mbase\u001b[0m \u001b[1;32mimport\u001b[0m \u001b[0mBaseEstimator\u001b[0m\u001b[1;33m\u001b[0m\u001b[1;33m\u001b[0m\u001b[0m\n",
      "\u001b[1;32mc:\\users\\ragav\\appdata\\local\\programs\\python\\python38\\lib\\site-packages\\watson_machine_learning_client\\libs\\repo\\mlrepositoryartifact\\scikit_pipeline_reader.py\u001b[0m in \u001b[0;36m<module>\u001b[1;34m\u001b[0m\n\u001b[0;32m     23\u001b[0m \u001b[1;33m\u001b[0m\u001b[0m\n\u001b[0;32m     24\u001b[0m \u001b[1;32mif\u001b[0m \u001b[0mlib_checker\u001b[0m\u001b[1;33m.\u001b[0m\u001b[0minstalled_libs\u001b[0m\u001b[1;33m[\u001b[0m\u001b[0mSCIKIT\u001b[0m\u001b[1;33m]\u001b[0m\u001b[1;33m:\u001b[0m\u001b[1;33m\u001b[0m\u001b[1;33m\u001b[0m\u001b[0m\n\u001b[1;32m---> 25\u001b[1;33m     \u001b[1;32mfrom\u001b[0m \u001b[0msklearn\u001b[0m\u001b[1;33m.\u001b[0m\u001b[0mexternals\u001b[0m \u001b[1;32mimport\u001b[0m \u001b[0mjoblib\u001b[0m\u001b[1;33m\u001b[0m\u001b[1;33m\u001b[0m\u001b[0m\n\u001b[0m\u001b[0;32m     26\u001b[0m \u001b[1;33m\u001b[0m\u001b[0m\n\u001b[0;32m     27\u001b[0m \u001b[0mlogger\u001b[0m \u001b[1;33m=\u001b[0m \u001b[0mlogging\u001b[0m\u001b[1;33m.\u001b[0m\u001b[0mgetLogger\u001b[0m\u001b[1;33m(\u001b[0m\u001b[1;34m'ScikitPipelineReader'\u001b[0m\u001b[1;33m)\u001b[0m\u001b[1;33m\u001b[0m\u001b[1;33m\u001b[0m\u001b[0m\n",
      "\u001b[1;31mImportError\u001b[0m: cannot import name 'joblib' from 'sklearn.externals' (c:\\users\\ragav\\appdata\\local\\programs\\python\\python38\\lib\\site-packages\\sklearn\\externals\\__init__.py)"
     ]
    }
   ],
   "source": [
    "from watson_machine_learning_client import WatsonMachineLearningAPIClient"
   ]
  },
  {
   "cell_type": "code",
   "execution_count": null,
   "metadata": {},
   "outputs": [],
   "source": []
  }
 ],
 "metadata": {
  "kernelspec": {
   "display_name": "Python 3",
   "language": "python",
   "name": "python3"
  },
  "language_info": {
   "codemirror_mode": {
    "name": "ipython",
    "version": 3
   },
   "file_extension": ".py",
   "mimetype": "text/x-python",
   "name": "python",
   "nbconvert_exporter": "python",
   "pygments_lexer": "ipython3",
   "version": "3.8.3"
  }
 },
 "nbformat": 4,
 "nbformat_minor": 4
}
